{
 "cells": [
  {
   "cell_type": "code",
   "execution_count": 1,
   "id": "b1b4158a-df50-47ac-92c6-807c1d178366",
   "metadata": {},
   "outputs": [
    {
     "name": "stdout",
     "output_type": "stream",
     "text": [
      "Defaulting to user installation because normal site-packages is not writeable\n",
      "Requirement already satisfied: azure-ai-ml in c:\\users\\sahil\\appdata\\roaming\\python\\python312\\site-packages (1.26.0)\n",
      "Requirement already satisfied: azure-identity in c:\\users\\sahil\\appdata\\roaming\\python\\python312\\site-packages (1.21.0)\n",
      "Requirement already satisfied: pyyaml>=5.1.0 in c:\\programdata\\anaconda3\\lib\\site-packages (from azure-ai-ml) (6.0.1)\n",
      "Requirement already satisfied: msrest>=0.6.18 in c:\\users\\sahil\\appdata\\roaming\\python\\python312\\site-packages (from azure-ai-ml) (0.7.1)\n",
      "Requirement already satisfied: azure-core>=1.23.0 in c:\\users\\sahil\\appdata\\roaming\\python\\python312\\site-packages (from azure-ai-ml) (1.32.0)\n",
      "Requirement already satisfied: azure-mgmt-core>=1.3.0 in c:\\users\\sahil\\appdata\\roaming\\python\\python312\\site-packages (from azure-ai-ml) (1.5.0)\n",
      "Requirement already satisfied: marshmallow>=3.5 in c:\\users\\sahil\\appdata\\roaming\\python\\python312\\site-packages (from azure-ai-ml) (3.23.1)\n",
      "Requirement already satisfied: jsonschema>=4.0.0 in c:\\programdata\\anaconda3\\lib\\site-packages (from azure-ai-ml) (4.23.0)\n",
      "Requirement already satisfied: tqdm in c:\\programdata\\anaconda3\\lib\\site-packages (from azure-ai-ml) (4.66.5)\n",
      "Requirement already satisfied: strictyaml in c:\\users\\sahil\\appdata\\roaming\\python\\python312\\site-packages (from azure-ai-ml) (1.7.3)\n",
      "Requirement already satisfied: colorama in c:\\programdata\\anaconda3\\lib\\site-packages (from azure-ai-ml) (0.4.6)\n",
      "Requirement already satisfied: pyjwt in c:\\programdata\\anaconda3\\lib\\site-packages (from azure-ai-ml) (2.8.0)\n",
      "Requirement already satisfied: azure-storage-blob>=12.10.0 in c:\\users\\sahil\\appdata\\roaming\\python\\python312\\site-packages (from azure-ai-ml) (12.25.0)\n",
      "Requirement already satisfied: azure-storage-file-share in c:\\users\\sahil\\appdata\\roaming\\python\\python312\\site-packages (from azure-ai-ml) (12.21.0)\n",
      "Requirement already satisfied: azure-storage-file-datalake>=12.2.0 in c:\\users\\sahil\\appdata\\roaming\\python\\python312\\site-packages (from azure-ai-ml) (12.19.0)\n",
      "Requirement already satisfied: pydash>=6.0.0 in c:\\users\\sahil\\appdata\\roaming\\python\\python312\\site-packages (from azure-ai-ml) (8.0.5)\n",
      "Requirement already satisfied: isodate in c:\\users\\sahil\\appdata\\roaming\\python\\python312\\site-packages (from azure-ai-ml) (0.7.2)\n",
      "Requirement already satisfied: azure-common>=1.1 in c:\\users\\sahil\\appdata\\roaming\\python\\python312\\site-packages (from azure-ai-ml) (1.1.28)\n",
      "Requirement already satisfied: typing-extensions in c:\\programdata\\anaconda3\\lib\\site-packages (from azure-ai-ml) (4.11.0)\n",
      "Requirement already satisfied: azure-monitor-opentelemetry in c:\\users\\sahil\\appdata\\roaming\\python\\python312\\site-packages (from azure-ai-ml) (1.6.5)\n",
      "Requirement already satisfied: cryptography>=2.5 in c:\\programdata\\anaconda3\\lib\\site-packages (from azure-identity) (43.0.0)\n",
      "Requirement already satisfied: msal>=1.30.0 in c:\\users\\sahil\\appdata\\roaming\\python\\python312\\site-packages (from azure-identity) (1.32.0)\n",
      "Requirement already satisfied: msal-extensions>=1.2.0 in c:\\users\\sahil\\appdata\\roaming\\python\\python312\\site-packages (from azure-identity) (1.3.1)\n",
      "Requirement already satisfied: requests>=2.21.0 in c:\\programdata\\anaconda3\\lib\\site-packages (from azure-core>=1.23.0->azure-ai-ml) (2.32.3)\n",
      "Requirement already satisfied: six>=1.11.0 in c:\\programdata\\anaconda3\\lib\\site-packages (from azure-core>=1.23.0->azure-ai-ml) (1.16.0)\n",
      "Requirement already satisfied: cffi>=1.12 in c:\\programdata\\anaconda3\\lib\\site-packages (from cryptography>=2.5->azure-identity) (1.17.1)\n",
      "Requirement already satisfied: attrs>=22.2.0 in c:\\programdata\\anaconda3\\lib\\site-packages (from jsonschema>=4.0.0->azure-ai-ml) (23.1.0)\n",
      "Requirement already satisfied: jsonschema-specifications>=2023.03.6 in c:\\programdata\\anaconda3\\lib\\site-packages (from jsonschema>=4.0.0->azure-ai-ml) (2023.7.1)\n",
      "Requirement already satisfied: referencing>=0.28.4 in c:\\programdata\\anaconda3\\lib\\site-packages (from jsonschema>=4.0.0->azure-ai-ml) (0.30.2)\n",
      "Requirement already satisfied: rpds-py>=0.7.1 in c:\\programdata\\anaconda3\\lib\\site-packages (from jsonschema>=4.0.0->azure-ai-ml) (0.10.6)\n",
      "Requirement already satisfied: packaging>=17.0 in c:\\programdata\\anaconda3\\lib\\site-packages (from marshmallow>=3.5->azure-ai-ml) (24.1)\n",
      "Requirement already satisfied: certifi>=2017.4.17 in c:\\programdata\\anaconda3\\lib\\site-packages (from msrest>=0.6.18->azure-ai-ml) (2024.8.30)\n",
      "Requirement already satisfied: requests-oauthlib>=0.5.0 in c:\\users\\sahil\\appdata\\roaming\\python\\python312\\site-packages (from msrest>=0.6.18->azure-ai-ml) (2.0.0)\n",
      "Requirement already satisfied: azure-core-tracing-opentelemetry~=1.0.0b11 in c:\\users\\sahil\\appdata\\roaming\\python\\python312\\site-packages (from azure-monitor-opentelemetry->azure-ai-ml) (1.0.0b12)\n",
      "Requirement already satisfied: azure-monitor-opentelemetry-exporter~=1.0.0b31 in c:\\users\\sahil\\appdata\\roaming\\python\\python312\\site-packages (from azure-monitor-opentelemetry->azure-ai-ml) (1.0.0b35)\n",
      "Requirement already satisfied: opentelemetry-instrumentation-django~=0.49b0 in c:\\users\\sahil\\appdata\\roaming\\python\\python312\\site-packages (from azure-monitor-opentelemetry->azure-ai-ml) (0.52b1)\n",
      "Requirement already satisfied: opentelemetry-instrumentation-fastapi~=0.49b0 in c:\\users\\sahil\\appdata\\roaming\\python\\python312\\site-packages (from azure-monitor-opentelemetry->azure-ai-ml) (0.52b1)\n",
      "Requirement already satisfied: opentelemetry-instrumentation-flask~=0.49b0 in c:\\users\\sahil\\appdata\\roaming\\python\\python312\\site-packages (from azure-monitor-opentelemetry->azure-ai-ml) (0.52b1)\n",
      "Requirement already satisfied: opentelemetry-instrumentation-psycopg2~=0.49b0 in c:\\users\\sahil\\appdata\\roaming\\python\\python312\\site-packages (from azure-monitor-opentelemetry->azure-ai-ml) (0.52b1)\n",
      "Requirement already satisfied: opentelemetry-instrumentation-requests~=0.49b0 in c:\\users\\sahil\\appdata\\roaming\\python\\python312\\site-packages (from azure-monitor-opentelemetry->azure-ai-ml) (0.52b1)\n",
      "Requirement already satisfied: opentelemetry-instrumentation-urllib~=0.49b0 in c:\\users\\sahil\\appdata\\roaming\\python\\python312\\site-packages (from azure-monitor-opentelemetry->azure-ai-ml) (0.52b1)\n",
      "Requirement already satisfied: opentelemetry-instrumentation-urllib3~=0.49b0 in c:\\users\\sahil\\appdata\\roaming\\python\\python312\\site-packages (from azure-monitor-opentelemetry->azure-ai-ml) (0.52b1)\n",
      "Requirement already satisfied: opentelemetry-resource-detector-azure~=0.1.4 in c:\\users\\sahil\\appdata\\roaming\\python\\python312\\site-packages (from azure-monitor-opentelemetry->azure-ai-ml) (0.1.5)\n",
      "Requirement already satisfied: opentelemetry-sdk~=1.28 in c:\\users\\sahil\\appdata\\roaming\\python\\python312\\site-packages (from azure-monitor-opentelemetry->azure-ai-ml) (1.31.1)\n",
      "Requirement already satisfied: python-dateutil>=2.6.0 in c:\\programdata\\anaconda3\\lib\\site-packages (from strictyaml->azure-ai-ml) (2.9.0.post0)\n",
      "Requirement already satisfied: opentelemetry-api>=1.12.0 in c:\\users\\sahil\\appdata\\roaming\\python\\python312\\site-packages (from azure-core-tracing-opentelemetry~=1.0.0b11->azure-monitor-opentelemetry->azure-ai-ml) (1.31.1)\n",
      "Requirement already satisfied: fixedint==0.1.6 in c:\\users\\sahil\\appdata\\roaming\\python\\python312\\site-packages (from azure-monitor-opentelemetry-exporter~=1.0.0b31->azure-monitor-opentelemetry->azure-ai-ml) (0.1.6)\n",
      "Requirement already satisfied: psutil<7,>=5.9 in c:\\programdata\\anaconda3\\lib\\site-packages (from azure-monitor-opentelemetry-exporter~=1.0.0b31->azure-monitor-opentelemetry->azure-ai-ml) (5.9.0)\n",
      "Requirement already satisfied: pycparser in c:\\programdata\\anaconda3\\lib\\site-packages (from cffi>=1.12->cryptography>=2.5->azure-identity) (2.21)\n",
      "Requirement already satisfied: opentelemetry-instrumentation-wsgi==0.52b1 in c:\\users\\sahil\\appdata\\roaming\\python\\python312\\site-packages (from opentelemetry-instrumentation-django~=0.49b0->azure-monitor-opentelemetry->azure-ai-ml) (0.52b1)\n",
      "Requirement already satisfied: opentelemetry-instrumentation==0.52b1 in c:\\users\\sahil\\appdata\\roaming\\python\\python312\\site-packages (from opentelemetry-instrumentation-django~=0.49b0->azure-monitor-opentelemetry->azure-ai-ml) (0.52b1)\n",
      "Requirement already satisfied: opentelemetry-semantic-conventions==0.52b1 in c:\\users\\sahil\\appdata\\roaming\\python\\python312\\site-packages (from opentelemetry-instrumentation-django~=0.49b0->azure-monitor-opentelemetry->azure-ai-ml) (0.52b1)\n",
      "Requirement already satisfied: opentelemetry-util-http==0.52b1 in c:\\users\\sahil\\appdata\\roaming\\python\\python312\\site-packages (from opentelemetry-instrumentation-django~=0.49b0->azure-monitor-opentelemetry->azure-ai-ml) (0.52b1)\n",
      "Requirement already satisfied: wrapt<2.0.0,>=1.0.0 in c:\\programdata\\anaconda3\\lib\\site-packages (from opentelemetry-instrumentation==0.52b1->opentelemetry-instrumentation-django~=0.49b0->azure-monitor-opentelemetry->azure-ai-ml) (1.14.1)\n",
      "Requirement already satisfied: deprecated>=1.2.6 in c:\\users\\sahil\\appdata\\roaming\\python\\python312\\site-packages (from opentelemetry-semantic-conventions==0.52b1->opentelemetry-instrumentation-django~=0.49b0->azure-monitor-opentelemetry->azure-ai-ml) (1.2.15)\n",
      "Requirement already satisfied: importlib-metadata<8.7.0,>=6.0 in c:\\programdata\\anaconda3\\lib\\site-packages (from opentelemetry-api>=1.12.0->azure-core-tracing-opentelemetry~=1.0.0b11->azure-monitor-opentelemetry->azure-ai-ml) (7.0.1)\n",
      "Requirement already satisfied: opentelemetry-instrumentation-asgi==0.52b1 in c:\\users\\sahil\\appdata\\roaming\\python\\python312\\site-packages (from opentelemetry-instrumentation-fastapi~=0.49b0->azure-monitor-opentelemetry->azure-ai-ml) (0.52b1)\n",
      "Requirement already satisfied: asgiref~=3.0 in c:\\users\\sahil\\appdata\\roaming\\python\\python312\\site-packages (from opentelemetry-instrumentation-asgi==0.52b1->opentelemetry-instrumentation-fastapi~=0.49b0->azure-monitor-opentelemetry->azure-ai-ml) (3.8.1)\n",
      "Requirement already satisfied: opentelemetry-instrumentation-dbapi==0.52b1 in c:\\users\\sahil\\appdata\\roaming\\python\\python312\\site-packages (from opentelemetry-instrumentation-psycopg2~=0.49b0->azure-monitor-opentelemetry->azure-ai-ml) (0.52b1)\n",
      "Requirement already satisfied: charset-normalizer<4,>=2 in c:\\programdata\\anaconda3\\lib\\site-packages (from requests>=2.21.0->azure-core>=1.23.0->azure-ai-ml) (3.3.2)\n",
      "Requirement already satisfied: idna<4,>=2.5 in c:\\programdata\\anaconda3\\lib\\site-packages (from requests>=2.21.0->azure-core>=1.23.0->azure-ai-ml) (3.7)\n",
      "Requirement already satisfied: urllib3<3,>=1.21.1 in c:\\programdata\\anaconda3\\lib\\site-packages (from requests>=2.21.0->azure-core>=1.23.0->azure-ai-ml) (2.2.3)\n",
      "Requirement already satisfied: oauthlib>=3.0.0 in c:\\users\\sahil\\appdata\\roaming\\python\\python312\\site-packages (from requests-oauthlib>=0.5.0->msrest>=0.6.18->azure-ai-ml) (3.2.2)\n",
      "Requirement already satisfied: zipp>=0.5 in c:\\programdata\\anaconda3\\lib\\site-packages (from importlib-metadata<8.7.0,>=6.0->opentelemetry-api>=1.12.0->azure-core-tracing-opentelemetry~=1.0.0b11->azure-monitor-opentelemetry->azure-ai-ml) (3.17.0)\n"
     ]
    }
   ],
   "source": [
    "!pip install azure-ai-ml azure-identity"
   ]
  },
  {
   "cell_type": "code",
   "execution_count": 2,
   "id": "bae32197-f28e-4517-a246-2916272e905a",
   "metadata": {},
   "outputs": [],
   "source": [
    "import os\n",
    "import json\n",
    "import datetime\n",
    "\n",
    "from azure.ai.ml import MLClient\n",
    "from azure.ai.ml.entities import (\n",
    "    ManagedOnlineEndpoint,\n",
    "    ManagedOnlineDeployment,\n",
    "    Model,\n",
    "    Environment,\n",
    "    CodeConfiguration,\n",
    ")\n",
    "from azure.identity import DefaultAzureCredential"
   ]
  },
  {
   "cell_type": "code",
   "execution_count": 3,
   "id": "36423101-6e29-4469-846f-ba14d0461e07",
   "metadata": {},
   "outputs": [],
   "source": [
    "# laoding the configuration file\n",
    "config_file_path = \"config.json\"\n",
    "\n",
    "# Read JSON data into a dictionary\n",
    "config_data = json.load(open(config_file_path))\n",
    "\n",
    "subscription_id = config_data[\"subscription_id\"]\n",
    "resource_group = config_data[\"resource_group\"]  \n",
    "workspace = config_data[\"workspace\"]\n",
    "location = config_data[\"location\"]"
   ]
  },
  {
   "cell_type": "code",
   "execution_count": 4,
   "id": "c260dd49-a2ae-46d8-bfff-9465123ed1f1",
   "metadata": {},
   "outputs": [
    {
     "name": "stdout",
     "output_type": "stream",
     "text": [
      "deploy-plant\n",
      "deploy-plant\n",
      "westus\n"
     ]
    }
   ],
   "source": [
    "\n",
    "print(resource_group)\n",
    "print(workspace)\n",
    "print(location)"
   ]
  },
  {
   "cell_type": "code",
   "execution_count": 5,
   "id": "dd71fc7d-d365-4a07-9fe4-2e45a4e07414",
   "metadata": {},
   "outputs": [],
   "source": [
    "\n",
    "# get a handle to the workspace\n",
    "ml_client = MLClient(\n",
    "    DefaultAzureCredential(), subscription_id, resource_group, workspace\n",
    ")"
   ]
  },
  {
   "cell_type": "code",
   "execution_count": 6,
   "id": "ceeef418-a9b1-4e0c-a49a-a70228924696",
   "metadata": {},
   "outputs": [],
   "source": [
    "\n",
    "# Define an endpoint name\n",
    "endpoint_name = \"endpt-plant-dis-\" + datetime.datetime.now().strftime(\"%m%d%H%M%f\")\n",
    "\n",
    "# create an online endpoint\n",
    "endpoint = ManagedOnlineEndpoint(\n",
    "    name=endpoint_name,\n",
    "    description=\"This is an online endpoint for predicting Plant diseases\",\n",
    "    auth_mode=\"aml_token\"\n",
    ")"
   ]
  },
  {
   "cell_type": "code",
   "execution_count": 7,
   "id": "18fef96b-78ae-4613-b638-6875b865d46c",
   "metadata": {},
   "outputs": [
    {
     "name": "stdout",
     "output_type": "stream",
     "text": [
      "endpt-plant-dis-03251606792664\n"
     ]
    }
   ],
   "source": [
    "print(endpoint_name)"
   ]
  },
  {
   "cell_type": "code",
   "execution_count": 8,
   "id": "395142d8-b38c-4c25-a0c0-d71fd41725da",
   "metadata": {},
   "outputs": [],
   "source": [
    "model = Model(path=\"trained_model/plant_disease_prediction_model.h5\")\n",
    "env = Environment(\n",
    "    conda_file=\"conda.yaml\",\n",
    "    image=\"mcr.microsoft.com/azureml/openmpi4.1.0-ubuntu20.04:latest\",\n",
    ")\n",
    "\n",
    "blue_deployment = ManagedOnlineDeployment(\n",
    "    name=\"blue\",\n",
    "    endpoint_name=endpoint_name,\n",
    "    model=model,\n",
    "    environment=env,\n",
    "    code_configuration=CodeConfiguration(\n",
    "        code=\"onlinescoring\", scoring_script=\"score.py\"\n",
    "    ),\n",
    "    instance_type=\"Standard_NC4as_T4_v3\",\n",
    "    instance_count=1,\n",
    ")"
   ]
  },
  {
   "cell_type": "code",
   "execution_count": 9,
   "id": "1934165a-b270-49d7-b0c8-cf21a7fc2d9a",
   "metadata": {},
   "outputs": [
    {
     "name": "stdout",
     "output_type": "stream",
     "text": [
      "CPU times: total: 188 ms\n",
      "Wall time: 1min 47s\n"
     ]
    }
   ],
   "source": [
    "%%time\n",
    "create_endpoint = ml_client.online_endpoints.begin_create_or_update(endpoint).result()"
   ]
  },
  {
   "cell_type": "code",
   "execution_count": 10,
   "id": "68309cfa-f294-4a96-a096-0eb417aced17",
   "metadata": {},
   "outputs": [
    {
     "name": "stderr",
     "output_type": "stream",
     "text": [
      "Check: endpoint endpt-plant-dis-03251606792664 exists\n",
      "\u001b[32mUploading plant_disease_prediction_model.h5\u001b[32m (< 1 MB): 474MB [08:09, 968kB/s]                                           \u001b[0m\n",
      "\u001b[39m\n",
      "\n"
     ]
    },
    {
     "name": "stdout",
     "output_type": "stream",
     "text": [
      "................................................................................................CPU times: total: 9.89 s\n",
      "Wall time: 17min 58s\n"
     ]
    }
   ],
   "source": [
    "%%time\n",
    "deploy_endpoint = ml_client.online_deployments.begin_create_or_update(blue_deployment).result()"
   ]
  },
  {
   "cell_type": "code",
   "execution_count": 11,
   "id": "1c7ecca4-cd4b-4049-9f72-4e23e4245e2a",
   "metadata": {},
   "outputs": [],
   "source": [
    "# blue deployment takes 100 traffic\n",
    "endpoint.traffic = {\"blue\": 100}\n",
    "add_traffic = ml_client.online_endpoints.begin_create_or_update(endpoint).result()"
   ]
  },
  {
   "cell_type": "code",
   "execution_count": 12,
   "id": "b4d64118-a8d8-46bd-a583-e26ab42bb69b",
   "metadata": {},
   "outputs": [
    {
     "name": "stdout",
     "output_type": "stream",
     "text": [
      "{'blue': 100}\n",
      "https://endpt-plant-dis-03251606792664.westus.inference.ml.azure.com/score\n"
     ]
    }
   ],
   "source": [
    "# Get the details for online endpoint\n",
    "endpoint = ml_client.online_endpoints.get(name=endpoint_name)\n",
    "\n",
    "# existing traffic details\n",
    "print(endpoint.traffic)\n",
    "\n",
    "# Get the scoring URI\n",
    "print(endpoint.scoring_uri)"
   ]
  },
  {
   "cell_type": "code",
   "execution_count": 15,
   "id": "a74327eb-b66b-4a13-9a3c-fe294392e77e",
   "metadata": {},
   "outputs": [],
   "source": [
    "import base64\n",
    "import json\n",
    "\n",
    "# Read the image  \n",
    "with open('test_apple_black_rot.jpeg', 'rb') as image_file:\n",
    "    image_data = image_file.read()\n",
    "\n",
    "# Convert image to base64\n",
    "image_base64 = base64.b64encode(image_data).decode('utf-8')\n",
    "\n",
    "json_request = json.dumps({'data': image_base64})\n",
    "\n",
    "# Save this JSON as a file\n",
    "json_file_path = 'sample-request.json'  # Specify your desired path for the JSON file\n",
    "with open(json_file_path, 'w') as json_file:\n",
    "    json_file.write(json_request)\n",
    "\n",
    "\n",
    "# test the blue deployment with some sample data\n",
    "response = ml_client.online_endpoints.invoke(\n",
    "    endpoint_name=endpoint_name,\n",
    "    deployment_name=\"blue\",\n",
    "    request_file=\"sample-request.json\",\n",
    ")"
   ]
  },
  {
   "cell_type": "code",
   "execution_count": 16,
   "id": "bf413c35-81a8-4cdf-a69c-52b58044539a",
   "metadata": {},
   "outputs": [
    {
     "name": "stdout",
     "output_type": "stream",
     "text": [
      "\"{\\\"Predicted Class Name\\\": \\\"Apple___Black_rot\\\"}\"\n"
     ]
    }
   ],
   "source": [
    "print(response)"
   ]
  },
  {
   "cell_type": "code",
   "execution_count": 17,
   "id": "ed3a27c4-4d41-4e89-ab98-0ffe229fb3fd",
   "metadata": {},
   "outputs": [
    {
     "name": "stdout",
     "output_type": "stream",
     "text": [
      "{\"Predicted Class Name\": \"Apple___Black_rot\"}\n"
     ]
    }
   ],
   "source": [
    "# Convert the string to a dictionary\n",
    "prediction = json.loads(response)\n",
    "\n",
    "# Now dict_data is a Python dictionary\n",
    "print(prediction)"
   ]
  },
  {
   "cell_type": "code",
   "execution_count": 19,
   "id": "a7c82d8f-824c-4021-86d4-c395eac9a6b0",
   "metadata": {},
   "outputs": [
    {
     "name": "stdout",
     "output_type": "stream",
     "text": [
      "deploy-plant\n",
      "deploy-plant\n",
      "endpt-plant-dis-03251606792664\n"
     ]
    }
   ],
   "source": [
    "print(resource_group)\n",
    "print(workspace)\n",
    "print(endpoint_name)"
   ]
  },
  {
   "cell_type": "code",
   "execution_count": 20,
   "id": "fe2e363d-5cf0-449e-a336-c34a6d6b42a0",
   "metadata": {},
   "outputs": [
    {
     "data": {
      "text/plain": [
       "'Instance status:\\nSystemSetup: Succeeded\\nUserContainerImagePull: Succeeded\\nModelDownload: Succeeded\\nUserContainerStart: Succeeded\\n\\nContainer events:\\nKind: Pod, Name: Downloading, Type: Normal, Time: 2025-03-25T10:54:01.551473Z, Message: Start downloading models\\nKind: Pod, Name: Pulling, Type: Normal, Time: 2025-03-25T10:54:01.985296Z, Message: Start pulling container image\\nKind: Pod, Name: Pulled, Type: Normal, Time: 2025-03-25T10:55:03.047476Z, Message: Container image is pulled successfully\\nKind: Pod, Name: Downloaded, Type: Normal, Time: 2025-03-25T10:55:03.047476Z, Message: Models are downloaded successfully\\nKind: Pod, Name: Created, Type: Normal, Time: 2025-03-25T10:55:03.073852Z, Message: Created container inference-server\\nKind: Pod, Name: Started, Type: Normal, Time: 2025-03-25T10:55:03.325605Z, Message: Started container inference-server\\nKind: Pod, Name: ContainerReady, Type: Normal, Time: 2025-03-25T10:55:21.413935478Z, Message: Container is ready\\n\\nContainer logs:\\n2025-03-25 11:50:10,369 I [88] gunicorn.access - 127.0.0.1 - - [25/Mar/2025:11:50:10 +0000] \"GET / HTTP/1.0\" 200 7 \"-\" \"kube-probe/1.18\"\\n2025-03-25 11:50:16,208 I [88] gunicorn.access - 127.0.0.1 - - [25/Mar/2025:11:50:16 +0000] \"GET / HTTP/1.0\" 200 7 \"-\" \"kube-probe/1.18\"\\n2025-03-25 11:50:18,988 I [88] gunicorn.access - 127.0.0.1 - - [25/Mar/2025:11:50:18 +0000] \"HEAD / HTTP/1.0\" 200 0 \"-\" \"Mozilla/5.0 (compatible; Nmap Scripting Engine; https://nmap.org/book/nse.html)\"\\n2025-03-25 11:50:20,369 I [88] gunicorn.access - 127.0.0.1 - - [25/Mar/2025:11:50:20 +0000] \"GET / HTTP/1.0\" 200 7 \"-\" \"kube-probe/1.18\"\\n2025-03-25 11:50:26,208 I [88] gunicorn.access - 127.0.0.1 - - [25/Mar/2025:11:50:26 +0000] \"GET / HTTP/1.0\" 200 7 \"-\" \"kube-probe/1.18\"\\n2025-03-25 11:50:30,369 I [88] gunicorn.access - 127.0.0.1 - - [25/Mar/2025:11:50:30 +0000] \"GET / HTTP/1.0\" 200 7 \"-\" \"kube-probe/1.18\"\\n2025-03-25 11:50:36,208 I [88] gunicorn.access - 127.0.0.1 - - [25/Mar/2025:11:50:36 +0000] \"GET / HTTP/1.0\" 200 7 \"-\" \"kube-probe/1.18\"\\n2025-03-25 11:50:40,369 I [88] gunicorn.access - 127.0.0.1 - - [25/Mar/2025:11:50:40 +0000] \"GET / HTTP/1.0\" 200 7 \"-\" \"kube-probe/1.18\"\\n2025-03-25 11:50:46,208 I [88] gunicorn.access - 127.0.0.1 - - [25/Mar/2025:11:50:46 +0000] \"GET / HTTP/1.0\" 200 7 \"-\" \"kube-probe/1.18\"\\n2025-03-25 11:50:50,369 I [88] gunicorn.access - 127.0.0.1 - - [25/Mar/2025:11:50:50 +0000] \"GET / HTTP/1.0\" 200 7 \"-\" \"kube-probe/1.18\"\\n2025-03-25 11:50:56,208 I [88] gunicorn.access - 127.0.0.1 - - [25/Mar/2025:11:50:56 +0000] \"GET / HTTP/1.0\" 200 7 \"-\" \"kube-probe/1.18\"\\n2025-03-25 11:51:00,369 I [88] gunicorn.access - 127.0.0.1 - - [25/Mar/2025:11:51:00 +0000] \"GET / HTTP/1.0\" 200 7 \"-\" \"kube-probe/1.18\"\\n2025-03-25 11:51:06,208 I [88] gunicorn.access - 127.0.0.1 - - [25/Mar/2025:11:51:06 +0000] \"GET / HTTP/1.0\" 200 7 \"-\" \"kube-probe/1.18\"\\n2025-03-25 11:51:10,369 I [88] gunicorn.access - 127.0.0.1 - - [25/Mar/2025:11:51:10 +0000] \"GET / HTTP/1.0\" 200 7 \"-\" \"kube-probe/1.18\"\\n2025-03-25 11:51:16,208 I [88] gunicorn.access - 127.0.0.1 - - [25/Mar/2025:11:51:16 +0000] \"GET / HTTP/1.0\" 200 7 \"-\" \"kube-probe/1.18\"\\n2025-03-25 11:51:20,369 I [88] gunicorn.access - 127.0.0.1 - - [25/Mar/2025:11:51:20 +0000] \"GET / HTTP/1.0\" 200 7 \"-\" \"kube-probe/1.18\"\\n2025-03-25 11:51:26,208 I [88] gunicorn.access - 127.0.0.1 - - [25/Mar/2025:11:51:26 +0000] \"GET / HTTP/1.0\" 200 7 \"-\" \"kube-probe/1.18\"\\n2025-03-25 11:51:30,369 I [88] gunicorn.access - 127.0.0.1 - - [25/Mar/2025:11:51:30 +0000] \"GET / HTTP/1.0\" 200 7 \"-\" \"kube-probe/1.18\"\\n2025-03-25 11:51:36,208 I [88] gunicorn.access - 127.0.0.1 - - [25/Mar/2025:11:51:36 +0000] \"GET / HTTP/1.0\" 200 7 \"-\" \"kube-probe/1.18\"\\n2025-03-25 11:51:40,369 I [88] gunicorn.access - 127.0.0.1 - - [25/Mar/2025:11:51:40 +0000] \"GET / HTTP/1.0\" 200 7 \"-\" \"kube-probe/1.18\"\\n2025-03-25 11:51:46,208 I [88] gunicorn.access - 127.0.0.1 - - [25/Mar/2025:11:51:46 +0000] \"GET / HTTP/1.0\" 200 7 \"-\" \"kube-probe/1.18\"\\n2025-03-25 11:51:50,369 I [88] gunicorn.access - 127.0.0.1 - - [25/Mar/2025:11:51:50 +0000] \"GET / HTTP/1.0\" 200 7 \"-\" \"kube-probe/1.18\"\\n2025-03-25 11:51:56,208 I [88] gunicorn.access - 127.0.0.1 - - [25/Mar/2025:11:51:56 +0000] \"GET / HTTP/1.0\" 200 7 \"-\" \"kube-probe/1.18\"\\n2025-03-25 11:52:00,369 I [88] gunicorn.access - 127.0.0.1 - - [25/Mar/2025:11:52:00 +0000] \"GET / HTTP/1.0\" 200 7 \"-\" \"kube-probe/1.18\"\\n2025-03-25 11:52:06,208 I [88] gunicorn.access - 127.0.0.1 - - [25/Mar/2025:11:52:06 +0000] \"GET / HTTP/1.0\" 200 7 \"-\" \"kube-probe/1.18\"\\n2025-03-25 11:52:10,369 I [88] gunicorn.access - 127.0.0.1 - - [25/Mar/2025:11:52:10 +0000] \"GET / HTTP/1.0\" 200 7 \"-\" \"kube-probe/1.18\"\\n2025-03-25 11:52:16,208 I [88] gunicorn.access - 127.0.0.1 - - [25/Mar/2025:11:52:16 +0000] \"GET / HTTP/1.0\" 200 7 \"-\" \"kube-probe/1.18\"\\n2025-03-25 11:52:20,369 I [88] gunicorn.access - 127.0.0.1 - - [25/Mar/2025:11:52:20 +0000] \"GET / HTTP/1.0\" 200 7 \"-\" \"kube-probe/1.18\"\\n2025-03-25 11:52:26,208 I [88] gunicorn.access - 127.0.0.1 - - [25/Mar/2025:11:52:26 +0000] \"GET / HTTP/1.0\" 200 7 \"-\" \"kube-probe/1.18\"\\n2025-03-25 11:52:30,369 I [88] gunicorn.access - 127.0.0.1 - - [25/Mar/2025:11:52:30 +0000] \"GET / HTTP/1.0\" 200 7 \"-\" \"kube-probe/1.18\"\\n2025-03-25 11:52:36,208 I [88] gunicorn.access - 127.0.0.1 - - [25/Mar/2025:11:52:36 +0000] \"GET / HTTP/1.0\" 200 7 \"-\" \"kube-probe/1.18\"\\n2025-03-25 11:52:40,369 I [88] gunicorn.access - 127.0.0.1 - - [25/Mar/2025:11:52:40 +0000] \"GET / HTTP/1.0\" 200 7 \"-\" \"kube-probe/1.18\"\\n2025-03-25 11:52:46,208 I [88] gunicorn.access - 127.0.0.1 - - [25/Mar/2025:11:52:46 +0000] \"GET / HTTP/1.0\" 200 7 \"-\" \"kube-probe/1.18\"\\n2025-03-25 11:52:50,369 I [88] gunicorn.access - 127.0.0.1 - - [25/Mar/2025:11:52:50 +0000] \"GET / HTTP/1.0\" 200 7 \"-\" \"kube-probe/1.18\"\\n2025-03-25 11:52:56,208 I [88] gunicorn.access - 127.0.0.1 - - [25/Mar/2025:11:52:56 +0000] \"GET / HTTP/1.0\" 200 7 \"-\" \"kube-probe/1.18\"\\n2025-03-25 11:53:00,369 I [88] gunicorn.access - 127.0.0.1 - - [25/Mar/2025:11:53:00 +0000] \"GET / HTTP/1.0\" 200 7 \"-\" \"kube-probe/1.18\"\\n2025-03-25 11:53:06,208 I [88] gunicorn.access - 127.0.0.1 - - [25/Mar/2025:11:53:06 +0000] \"GET / HTTP/1.0\" 200 7 \"-\" \"kube-probe/1.18\"\\n2025-03-25 11:53:10,369 I [88] gunicorn.access - 127.0.0.1 - - [25/Mar/2025:11:53:10 +0000] \"GET / HTTP/1.0\" 200 7 \"-\" \"kube-probe/1.18\"\\n2025-03-25 11:53:16,208 I [88] gunicorn.access - 127.0.0.1 - - [25/Mar/2025:11:53:16 +0000] \"GET / HTTP/1.0\" 200 7 \"-\" \"kube-probe/1.18\"\\n2025-03-25 11:53:20,369 I [88] gunicorn.access - 127.0.0.1 - - [25/Mar/2025:11:53:20 +0000] \"GET / HTTP/1.0\" 200 7 \"-\" \"kube-probe/1.18\"\\n2025-03-25 11:53:26,208 I [88] gunicorn.access - 127.0.0.1 - - [25/Mar/2025:11:53:26 +0000] \"GET / HTTP/1.0\" 200 7 \"-\" \"kube-probe/1.18\"\\n2025-03-25 11:53:30,369 I [88] gunicorn.access - 127.0.0.1 - - [25/Mar/2025:11:53:30 +0000] \"GET / HTTP/1.0\" 200 7 \"-\" \"kube-probe/1.18\"\\n2025-03-25 11:53:36,208 I [88] gunicorn.access - 127.0.0.1 - - [25/Mar/2025:11:53:36 +0000] \"GET / HTTP/1.0\" 200 7 \"-\" \"kube-probe/1.18\"\\n2025-03-25 11:53:40,369 I [88] gunicorn.access - 127.0.0.1 - - [25/Mar/2025:11:53:40 +0000] \"GET / HTTP/1.0\" 200 7 \"-\" \"kube-probe/1.18\"\\n2025-03-25 11:53:46,208 I [88] gunicorn.access - 127.0.0.1 - - [25/Mar/2025:11:53:46 +0000] \"GET / HTTP/1.0\" 200 7 \"-\" \"kube-probe/1.18\"\\n2025-03-25 11:53:50,369 I [88] gunicorn.access - 127.0.0.1 - - [25/Mar/2025:11:53:50 +0000] \"GET / HTTP/1.0\" 200 7 \"-\" \"kube-probe/1.18\"\\n2025-03-25 11:53:56,208 I [88] gunicorn.access - 127.0.0.1 - - [25/Mar/2025:11:53:56 +0000] \"GET / HTTP/1.0\" 200 7 \"-\" \"kube-probe/1.18\"\\n2025-03-25 11:54:00,369 I [88] gunicorn.access - 127.0.0.1 - - [25/Mar/2025:11:54:00 +0000] \"GET / HTTP/1.0\" 200 7 \"-\" \"kube-probe/1.18\"\\n2025-03-25 11:54:06,208 I [88] gunicorn.access - 127.0.0.1 - - [25/Mar/2025:11:54:06 +0000] \"GET / HTTP/1.0\" 200 7 \"-\" \"kube-probe/1.18\"\\n2025-03-25 11:54:10,369 I [88] gunicorn.access - 127.0.0.1 - - [25/Mar/2025:11:54:10 +0000] \"GET / HTTP/1.0\" 200 7 \"-\" \"kube-probe/1.18\"\\n\\n'"
      ]
     },
     "execution_count": 20,
     "metadata": {},
     "output_type": "execute_result"
    }
   ],
   "source": [
    "ml_client.online_deployments.get_logs(\n",
    "    name=\"blue\", endpoint_name=endpoint_name, lines=50\n",
    ")"
   ]
  },
  {
   "cell_type": "code",
   "execution_count": 23,
   "id": "c655199a-ebdc-4c91-8f39-5b1ff42ea102",
   "metadata": {},
   "outputs": [
    {
     "data": {
      "text/plain": [
       "<azure.core.polling._poller.LROPoller at 0x233aeaf66c0>"
      ]
     },
     "execution_count": 23,
     "metadata": {},
     "output_type": "execute_result"
    },
    {
     "name": "stdout",
     "output_type": "stream",
     "text": [
      "..............................................................................................................."
     ]
    }
   ],
   "source": [
    "#deleting the endpoint\n",
    "ml_client.online_endpoints.begin_delete(name=endpoint_name)"
   ]
  },
  {
   "cell_type": "code",
   "execution_count": null,
   "id": "05a33dfe-8971-4aaa-a9d9-e31648f7bae6",
   "metadata": {},
   "outputs": [],
   "source": []
  }
 ],
 "metadata": {
  "kernelspec": {
   "display_name": "Python (Anaconda)",
   "language": "python",
   "name": "anaconda"
  },
  "language_info": {
   "codemirror_mode": {
    "name": "ipython",
    "version": 3
   },
   "file_extension": ".py",
   "mimetype": "text/x-python",
   "name": "python",
   "nbconvert_exporter": "python",
   "pygments_lexer": "ipython3",
   "version": "3.12.7"
  }
 },
 "nbformat": 4,
 "nbformat_minor": 5
}
